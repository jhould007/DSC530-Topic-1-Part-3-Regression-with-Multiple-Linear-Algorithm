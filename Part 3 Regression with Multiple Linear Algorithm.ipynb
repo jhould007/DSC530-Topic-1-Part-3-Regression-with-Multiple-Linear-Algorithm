{
 "cells": [
  {
   "cell_type": "markdown",
   "id": "96fe5430",
   "metadata": {},
   "source": [
    "# Part 3: Regression with Multiple Linear Algorithm\n",
    "By Josh Houlding\n",
    "\n",
    "Often, you may want to train your model using more than one independent variable and a label. This is known as multiple regression, in which two or more independent variables are used to predict the value of a dependent variable. Some real-world examples of its use include predicting next year's Gross National Product (GNP) based on last year's GNP, current interest rate, unemployment, and some other variables.\n",
    "\n",
    "To demonstrate completion of this assignment, create a Microsoft Word document with your working code, screenshots of program results, and written answers to questions. Writing should be professional and rigorous, and include scientific/mathematical justification, where appropriate, for all conclusions reached. Upload your final Jupyter notebook and Word document to the digital classroom when complete.\n",
    "\n",
    "For this activity, in 250-500 words, answer the following:\n",
    "1. Make sure all necessary libraries are loaded. Print your x (independent) and y (dependent) variables from the data frame. Show the results.\n",
    "2. Fit an ordinary least square method using the OLS method from the seaborn library to figure out your most significant variables. Show the results and interpret the following:\n",
    "    - R-squared\n",
    "    - Adjusted. R-Squared\n",
    "    - Degree of freedom\n",
    "    - Coefficient of determination and P-values\n",
    "3. Test, identify, and detect multicollinearity in your dataset. Explain how you resolved it and report the results.\n",
    "4. Fit a linear regression model using the linear regression method from scikit-learn library. Obtain the coefficients and interpret the results.\n",
    "5. Split the data into 80% training and 20% testing sets using the train_test_split class.\n",
    "6. Train the multiple regression model on the training set using the LinearRegression class.\n",
    "7. Make regression predictions and interpret your results in the context of the question(s) you're trying to answer.\n",
    "8. Validate your multiple regression model using a confusion matrix, accuracy score, and k-fold cross-validation."
   ]
  },
  {
   "cell_type": "markdown",
   "id": "e58e76b3",
   "metadata": {},
   "source": [
    "# Task 1\n",
    "Make sure all necessary libraries are loaded. Print your x (independent) and y (dependent) variables from the data frame. Show the results.\n",
    "\n",
    "Dataset: <a href=\"https://www.kaggle.com/datasets/suyashlakhani/apple-stock-prices-20152020\">https://www.kaggle.com/datasets/suyashlakhani/apple-stock-prices-20152020</a>"
   ]
  },
  {
   "cell_type": "code",
   "execution_count": 23,
   "id": "b9abd5dc",
   "metadata": {},
   "outputs": [],
   "source": [
    "# Import general libraries\n",
    "import pandas as pd\n",
    "import numpy as np\n",
    "\n",
    "# Import visualization libraries\n",
    "import matplotlib.pyplot as plt\n",
    "\n",
    "# Import modeling libraries\n",
    "import statsmodels.api as sm\n",
    "from sklearn.linear_model import LinearRegression\n",
    "from sklearn.model_selection import train_test_split\n",
    "\n",
    "# Import diagnostic and evaluation libraries\n",
    "from statsmodels.stats.outliers_influence import variance_inflation_factor\n",
    "from sklearn.metrics import mean_squared_error, mean_absolute_error\n",
    "from sklearn.model_selection import cross_val_score"
   ]
  },
  {
   "cell_type": "code",
   "execution_count": 24,
   "id": "836c5b6c",
   "metadata": {
    "scrolled": true
   },
   "outputs": [
    {
     "data": {
      "text/html": [
       "<div>\n",
       "<style scoped>\n",
       "    .dataframe tbody tr th:only-of-type {\n",
       "        vertical-align: middle;\n",
       "    }\n",
       "\n",
       "    .dataframe tbody tr th {\n",
       "        vertical-align: top;\n",
       "    }\n",
       "\n",
       "    .dataframe thead th {\n",
       "        text-align: right;\n",
       "    }\n",
       "</style>\n",
       "<table border=\"1\" class=\"dataframe\">\n",
       "  <thead>\n",
       "    <tr style=\"text-align: right;\">\n",
       "      <th></th>\n",
       "      <th>date</th>\n",
       "      <th>close</th>\n",
       "      <th>high</th>\n",
       "      <th>low</th>\n",
       "      <th>open</th>\n",
       "      <th>volume</th>\n",
       "      <th>adjClose</th>\n",
       "      <th>adjHigh</th>\n",
       "      <th>adjLow</th>\n",
       "      <th>adjOpen</th>\n",
       "      <th>adjVolume</th>\n",
       "      <th>divCash</th>\n",
       "      <th>splitFactor</th>\n",
       "    </tr>\n",
       "  </thead>\n",
       "  <tbody>\n",
       "    <tr>\n",
       "      <th>0</th>\n",
       "      <td>2015-05-27 00:00:00+00:00</td>\n",
       "      <td>132.045</td>\n",
       "      <td>132.260</td>\n",
       "      <td>130.05</td>\n",
       "      <td>130.34</td>\n",
       "      <td>45833246</td>\n",
       "      <td>121.682558</td>\n",
       "      <td>121.880685</td>\n",
       "      <td>119.844118</td>\n",
       "      <td>120.111360</td>\n",
       "      <td>45833246</td>\n",
       "      <td>0.0</td>\n",
       "      <td>1.0</td>\n",
       "    </tr>\n",
       "    <tr>\n",
       "      <th>1</th>\n",
       "      <td>2015-05-28 00:00:00+00:00</td>\n",
       "      <td>131.780</td>\n",
       "      <td>131.950</td>\n",
       "      <td>131.10</td>\n",
       "      <td>131.86</td>\n",
       "      <td>30733309</td>\n",
       "      <td>121.438354</td>\n",
       "      <td>121.595013</td>\n",
       "      <td>120.811718</td>\n",
       "      <td>121.512076</td>\n",
       "      <td>30733309</td>\n",
       "      <td>0.0</td>\n",
       "      <td>1.0</td>\n",
       "    </tr>\n",
       "    <tr>\n",
       "      <th>2</th>\n",
       "      <td>2015-05-29 00:00:00+00:00</td>\n",
       "      <td>130.280</td>\n",
       "      <td>131.450</td>\n",
       "      <td>129.90</td>\n",
       "      <td>131.23</td>\n",
       "      <td>50884452</td>\n",
       "      <td>120.056069</td>\n",
       "      <td>121.134251</td>\n",
       "      <td>119.705890</td>\n",
       "      <td>120.931516</td>\n",
       "      <td>50884452</td>\n",
       "      <td>0.0</td>\n",
       "      <td>1.0</td>\n",
       "    </tr>\n",
       "    <tr>\n",
       "      <th>3</th>\n",
       "      <td>2015-06-01 00:00:00+00:00</td>\n",
       "      <td>130.535</td>\n",
       "      <td>131.390</td>\n",
       "      <td>130.05</td>\n",
       "      <td>131.20</td>\n",
       "      <td>32112797</td>\n",
       "      <td>120.291057</td>\n",
       "      <td>121.078960</td>\n",
       "      <td>119.844118</td>\n",
       "      <td>120.903870</td>\n",
       "      <td>32112797</td>\n",
       "      <td>0.0</td>\n",
       "      <td>1.0</td>\n",
       "    </tr>\n",
       "    <tr>\n",
       "      <th>4</th>\n",
       "      <td>2015-06-02 00:00:00+00:00</td>\n",
       "      <td>129.960</td>\n",
       "      <td>130.655</td>\n",
       "      <td>129.32</td>\n",
       "      <td>129.86</td>\n",
       "      <td>33667627</td>\n",
       "      <td>119.761181</td>\n",
       "      <td>120.401640</td>\n",
       "      <td>119.171406</td>\n",
       "      <td>119.669029</td>\n",
       "      <td>33667627</td>\n",
       "      <td>0.0</td>\n",
       "      <td>1.0</td>\n",
       "    </tr>\n",
       "  </tbody>\n",
       "</table>\n",
       "</div>"
      ],
      "text/plain": [
       "                        date    close     high     low    open    volume  \\\n",
       "0  2015-05-27 00:00:00+00:00  132.045  132.260  130.05  130.34  45833246   \n",
       "1  2015-05-28 00:00:00+00:00  131.780  131.950  131.10  131.86  30733309   \n",
       "2  2015-05-29 00:00:00+00:00  130.280  131.450  129.90  131.23  50884452   \n",
       "3  2015-06-01 00:00:00+00:00  130.535  131.390  130.05  131.20  32112797   \n",
       "4  2015-06-02 00:00:00+00:00  129.960  130.655  129.32  129.86  33667627   \n",
       "\n",
       "     adjClose     adjHigh      adjLow     adjOpen  adjVolume  divCash  \\\n",
       "0  121.682558  121.880685  119.844118  120.111360   45833246      0.0   \n",
       "1  121.438354  121.595013  120.811718  121.512076   30733309      0.0   \n",
       "2  120.056069  121.134251  119.705890  120.931516   50884452      0.0   \n",
       "3  120.291057  121.078960  119.844118  120.903870   32112797      0.0   \n",
       "4  119.761181  120.401640  119.171406  119.669029   33667627      0.0   \n",
       "\n",
       "   splitFactor  \n",
       "0          1.0  \n",
       "1          1.0  \n",
       "2          1.0  \n",
       "3          1.0  \n",
       "4          1.0  "
      ]
     },
     "execution_count": 24,
     "metadata": {},
     "output_type": "execute_result"
    }
   ],
   "source": [
    "# Load data\n",
    "df = pd.read_csv(\"AAPL.csv\")\n",
    "\n",
    "# Drop redundant columns\n",
    "df = df.drop(columns={\"Unnamed: 0\", \"symbol\"})\n",
    "\n",
    "# View data\n",
    "df.head()"
   ]
  },
  {
   "cell_type": "markdown",
   "id": "7af2c16e",
   "metadata": {},
   "source": [
    "I was curious if all date values contain the time value \"00:00:00+00:00\". If so, it can be removed for brevity. "
   ]
  },
  {
   "cell_type": "code",
   "execution_count": 25,
   "id": "99458e46",
   "metadata": {},
   "outputs": [
    {
     "name": "stdout",
     "output_type": "stream",
     "text": [
      "Dates: 1258\n",
      "Dates containing \"00:00:00+00:00\": 1258\n"
     ]
    }
   ],
   "source": [
    "# Find count of \"00:00:00+00:00\"\n",
    "string = \"00:00:00+00:00\"\n",
    "count = 0\n",
    "for date in df[\"date\"]: \n",
    "    if string in str(df[\"date\"]): \n",
    "        count += 1\n",
    "print(f\"Dates: {len(df)}\")\n",
    "print(f\"Dates containing \\\"00:00:00+00:00\\\": {count}\")"
   ]
  },
  {
   "cell_type": "markdown",
   "id": "44513354",
   "metadata": {},
   "source": [
    "All dates do contain this value, so it is redundant and can be removed. "
   ]
  },
  {
   "cell_type": "code",
   "execution_count": 26,
   "id": "0845551a",
   "metadata": {},
   "outputs": [],
   "source": [
    "# Remove \"00:00:00+00:00\" from dates\n",
    "df[\"date\"] = df[\"date\"].str.slice(0, 10)\n",
    "df[\"date\"] = df[\"date\"].str.strip()\n",
    "\n",
    "# Convert dates to datetime format\n",
    "df[\"date\"] = pd.to_datetime(df[\"date\"])"
   ]
  },
  {
   "cell_type": "code",
   "execution_count": 27,
   "id": "49fdcc67",
   "metadata": {},
   "outputs": [
    {
     "data": {
      "text/plain": [
       "0   2015-05-27\n",
       "1   2015-05-28\n",
       "2   2015-05-29\n",
       "Name: date, dtype: datetime64[ns]"
      ]
     },
     "execution_count": 27,
     "metadata": {},
     "output_type": "execute_result"
    }
   ],
   "source": [
    "# Show updated dates\n",
    "df[\"date\"].head(3)"
   ]
  },
  {
   "cell_type": "code",
   "execution_count": 28,
   "id": "ffc73b08",
   "metadata": {},
   "outputs": [],
   "source": [
    "# Create new features from \"date\" column\n",
    "df[\"year\"] = df[\"date\"].dt.year\n",
    "df[\"month\"] = df[\"date\"].dt.month\n",
    "df[\"day\"] = df[\"date\"].dt.day\n",
    "df[\"day_of_week\"] = df[\"date\"].dt.dayofweek\n",
    "\n",
    "# Function to map month to financial quarter\n",
    "def get_financial_quarter(month): \n",
    "    if 1 <= month <= 3: \n",
    "        return 1\n",
    "    elif 4 <= month <= 6: \n",
    "        return 2\n",
    "    elif 7 <= month <= 9: \n",
    "        return 3\n",
    "    else:\n",
    "        return 4\n",
    "\n",
    "# Create new feature for financial quarter\n",
    "df[\"quarter\"] = df[\"month\"].apply(get_financial_quarter)\n",
    "\n",
    "# Drop \"date\" column\n",
    "df = df.drop(columns={\"date\"})"
   ]
  },
  {
   "cell_type": "markdown",
   "id": "b97a5c63",
   "metadata": {},
   "source": [
    "In the previous assignment, I found considerable multicollinearity between each \"regular\" variable (`close`, `high`, etc.) and its adjusted counterpart (`adjClose`, `adjHigh`, etc.). Thus, I believe it would be appropriate to remove either the \"regular\" variables or the adjusted ones, and I have opted to remove the adjusted ones for simplicity. Let's do that now: "
   ]
  },
  {
   "cell_type": "code",
   "execution_count": 29,
   "id": "d7afef4b",
   "metadata": {},
   "outputs": [],
   "source": [
    "# Drop adjusted variables\n",
    "df = df.drop(columns={\"adjClose\", \"adjHigh\", \"adjLow\", \"adjOpen\", \"adjVolume\"})"
   ]
  },
  {
   "cell_type": "code",
   "execution_count": 30,
   "id": "41a07873",
   "metadata": {},
   "outputs": [],
   "source": [
    "# Reorder columns in dataframe\n",
    "df = df[[\"year\", \"month\", \"day\", \"day_of_week\", \"quarter\", \"high\", \"low\", \"open\", \"volume\", \"divCash\", \"splitFactor\", \"close\"]]"
   ]
  },
  {
   "cell_type": "code",
   "execution_count": 31,
   "id": "33817c68",
   "metadata": {},
   "outputs": [
    {
     "data": {
      "text/html": [
       "<div>\n",
       "<style scoped>\n",
       "    .dataframe tbody tr th:only-of-type {\n",
       "        vertical-align: middle;\n",
       "    }\n",
       "\n",
       "    .dataframe tbody tr th {\n",
       "        vertical-align: top;\n",
       "    }\n",
       "\n",
       "    .dataframe thead th {\n",
       "        text-align: right;\n",
       "    }\n",
       "</style>\n",
       "<table border=\"1\" class=\"dataframe\">\n",
       "  <thead>\n",
       "    <tr style=\"text-align: right;\">\n",
       "      <th></th>\n",
       "      <th>year</th>\n",
       "      <th>month</th>\n",
       "      <th>day</th>\n",
       "      <th>day_of_week</th>\n",
       "      <th>quarter</th>\n",
       "      <th>high</th>\n",
       "      <th>low</th>\n",
       "      <th>open</th>\n",
       "      <th>volume</th>\n",
       "      <th>divCash</th>\n",
       "      <th>splitFactor</th>\n",
       "      <th>close</th>\n",
       "    </tr>\n",
       "  </thead>\n",
       "  <tbody>\n",
       "    <tr>\n",
       "      <th>0</th>\n",
       "      <td>2015</td>\n",
       "      <td>5</td>\n",
       "      <td>27</td>\n",
       "      <td>2</td>\n",
       "      <td>2</td>\n",
       "      <td>132.260</td>\n",
       "      <td>130.05</td>\n",
       "      <td>130.34</td>\n",
       "      <td>45833246</td>\n",
       "      <td>0.0</td>\n",
       "      <td>1.0</td>\n",
       "      <td>132.045</td>\n",
       "    </tr>\n",
       "    <tr>\n",
       "      <th>1</th>\n",
       "      <td>2015</td>\n",
       "      <td>5</td>\n",
       "      <td>28</td>\n",
       "      <td>3</td>\n",
       "      <td>2</td>\n",
       "      <td>131.950</td>\n",
       "      <td>131.10</td>\n",
       "      <td>131.86</td>\n",
       "      <td>30733309</td>\n",
       "      <td>0.0</td>\n",
       "      <td>1.0</td>\n",
       "      <td>131.780</td>\n",
       "    </tr>\n",
       "    <tr>\n",
       "      <th>2</th>\n",
       "      <td>2015</td>\n",
       "      <td>5</td>\n",
       "      <td>29</td>\n",
       "      <td>4</td>\n",
       "      <td>2</td>\n",
       "      <td>131.450</td>\n",
       "      <td>129.90</td>\n",
       "      <td>131.23</td>\n",
       "      <td>50884452</td>\n",
       "      <td>0.0</td>\n",
       "      <td>1.0</td>\n",
       "      <td>130.280</td>\n",
       "    </tr>\n",
       "    <tr>\n",
       "      <th>3</th>\n",
       "      <td>2015</td>\n",
       "      <td>6</td>\n",
       "      <td>1</td>\n",
       "      <td>0</td>\n",
       "      <td>2</td>\n",
       "      <td>131.390</td>\n",
       "      <td>130.05</td>\n",
       "      <td>131.20</td>\n",
       "      <td>32112797</td>\n",
       "      <td>0.0</td>\n",
       "      <td>1.0</td>\n",
       "      <td>130.535</td>\n",
       "    </tr>\n",
       "    <tr>\n",
       "      <th>4</th>\n",
       "      <td>2015</td>\n",
       "      <td>6</td>\n",
       "      <td>2</td>\n",
       "      <td>1</td>\n",
       "      <td>2</td>\n",
       "      <td>130.655</td>\n",
       "      <td>129.32</td>\n",
       "      <td>129.86</td>\n",
       "      <td>33667627</td>\n",
       "      <td>0.0</td>\n",
       "      <td>1.0</td>\n",
       "      <td>129.960</td>\n",
       "    </tr>\n",
       "  </tbody>\n",
       "</table>\n",
       "</div>"
      ],
      "text/plain": [
       "   year  month  day  day_of_week  quarter     high     low    open    volume  \\\n",
       "0  2015      5   27            2        2  132.260  130.05  130.34  45833246   \n",
       "1  2015      5   28            3        2  131.950  131.10  131.86  30733309   \n",
       "2  2015      5   29            4        2  131.450  129.90  131.23  50884452   \n",
       "3  2015      6    1            0        2  131.390  130.05  131.20  32112797   \n",
       "4  2015      6    2            1        2  130.655  129.32  129.86  33667627   \n",
       "\n",
       "   divCash  splitFactor    close  \n",
       "0      0.0          1.0  132.045  \n",
       "1      0.0          1.0  131.780  \n",
       "2      0.0          1.0  130.280  \n",
       "3      0.0          1.0  130.535  \n",
       "4      0.0          1.0  129.960  "
      ]
     },
     "execution_count": 31,
     "metadata": {},
     "output_type": "execute_result"
    }
   ],
   "source": [
    "# Show final dataframe for modeling\n",
    "df.head()"
   ]
  },
  {
   "cell_type": "markdown",
   "id": "6a6f0dce",
   "metadata": {},
   "source": [
    "Now, let's display our dependent and independent variables. We are trying to predict the closing price of Apple's stock using various financial and time-based factors. \n",
    "\n",
    "<b>Independent variables:</b> `year`, `month`, `day`, `day_of_week`, `quarter`, `high`, `low`, `open`, `volume`, `divCash`, `splitFactor` <br>\n",
    "<b>Dependent variable:</b> `close` "
   ]
  },
  {
   "cell_type": "markdown",
   "id": "ae26c78d",
   "metadata": {},
   "source": [
    "# Task 2\n",
    "Fit an ordinary least square method using the OLS method from the seaborn library to figure out your most significant variables. Show the results and interpret the following:\n",
    "* R-squared\n",
    "* Adjusted. R-Squared\n",
    "* Degrees of freedom\n",
    "* Coefficients of determination and P-values"
   ]
  },
  {
   "cell_type": "code",
   "execution_count": 32,
   "id": "9f4942fb",
   "metadata": {},
   "outputs": [
    {
     "data": {
      "text/html": [
       "<table class=\"simpletable\">\n",
       "<caption>OLS Regression Results</caption>\n",
       "<tr>\n",
       "  <th>Dep. Variable:</th>          <td>close</td>      <th>  R-squared:         </th> <td>   1.000</td> \n",
       "</tr>\n",
       "<tr>\n",
       "  <th>Model:</th>                   <td>OLS</td>       <th>  Adj. R-squared:    </th> <td>   1.000</td> \n",
       "</tr>\n",
       "<tr>\n",
       "  <th>Method:</th>             <td>Least Squares</td>  <th>  F-statistic:       </th> <td>2.589e+05</td>\n",
       "</tr>\n",
       "<tr>\n",
       "  <th>Date:</th>             <td>Thu, 28 Mar 2024</td> <th>  Prob (F-statistic):</th>  <td>  0.00</td>  \n",
       "</tr>\n",
       "<tr>\n",
       "  <th>Time:</th>                 <td>11:19:50</td>     <th>  Log-Likelihood:    </th> <td> -2062.5</td> \n",
       "</tr>\n",
       "<tr>\n",
       "  <th>No. Observations:</th>      <td>  1258</td>      <th>  AIC:               </th> <td>   4147.</td> \n",
       "</tr>\n",
       "<tr>\n",
       "  <th>Df Residuals:</th>          <td>  1247</td>      <th>  BIC:               </th> <td>   4204.</td> \n",
       "</tr>\n",
       "<tr>\n",
       "  <th>Df Model:</th>              <td>    10</td>      <th>                     </th>     <td> </td>    \n",
       "</tr>\n",
       "<tr>\n",
       "  <th>Covariance Type:</th>      <td>nonrobust</td>    <th>                     </th>     <td> </td>    \n",
       "</tr>\n",
       "</table>\n",
       "<table class=\"simpletable\">\n",
       "<tr>\n",
       "       <td></td>          <th>coef</th>     <th>std err</th>      <th>t</th>      <th>P>|t|</th>  <th>[0.025</th>    <th>0.975]</th>  \n",
       "</tr>\n",
       "<tr>\n",
       "  <th>year</th>        <td>   -0.0445</td> <td>    0.059</td> <td>   -0.750</td> <td> 0.453</td> <td>   -0.161</td> <td>    0.072</td>\n",
       "</tr>\n",
       "<tr>\n",
       "  <th>month</th>       <td>   -0.0507</td> <td>    0.044</td> <td>   -1.159</td> <td> 0.247</td> <td>   -0.137</td> <td>    0.035</td>\n",
       "</tr>\n",
       "<tr>\n",
       "  <th>day</th>         <td>   -0.0066</td> <td>    0.004</td> <td>   -1.618</td> <td> 0.106</td> <td>   -0.015</td> <td>    0.001</td>\n",
       "</tr>\n",
       "<tr>\n",
       "  <th>day_of_week</th> <td>   -0.0088</td> <td>    0.026</td> <td>   -0.343</td> <td> 0.732</td> <td>   -0.059</td> <td>    0.041</td>\n",
       "</tr>\n",
       "<tr>\n",
       "  <th>quarter</th>     <td>    0.1847</td> <td>    0.134</td> <td>    1.381</td> <td> 0.167</td> <td>   -0.078</td> <td>    0.447</td>\n",
       "</tr>\n",
       "<tr>\n",
       "  <th>high</th>        <td>    0.7786</td> <td>    0.025</td> <td>   31.056</td> <td> 0.000</td> <td>    0.729</td> <td>    0.828</td>\n",
       "</tr>\n",
       "<tr>\n",
       "  <th>low</th>         <td>    0.7623</td> <td>    0.025</td> <td>   30.197</td> <td> 0.000</td> <td>    0.713</td> <td>    0.812</td>\n",
       "</tr>\n",
       "<tr>\n",
       "  <th>open</th>        <td>   -0.5401</td> <td>    0.026</td> <td>  -20.718</td> <td> 0.000</td> <td>   -0.591</td> <td>   -0.489</td>\n",
       "</tr>\n",
       "<tr>\n",
       "  <th>volume</th>      <td>-5.065e-09</td> <td> 2.99e-09</td> <td>   -1.692</td> <td> 0.091</td> <td>-1.09e-08</td> <td> 8.08e-10</td>\n",
       "</tr>\n",
       "<tr>\n",
       "  <th>divCash</th>     <td>    0.6596</td> <td>    0.431</td> <td>    1.530</td> <td> 0.126</td> <td>   -0.186</td> <td>    1.505</td>\n",
       "</tr>\n",
       "<tr>\n",
       "  <th>splitFactor</th> <td>   89.8205</td> <td>  119.540</td> <td>    0.751</td> <td> 0.453</td> <td> -144.701</td> <td>  324.342</td>\n",
       "</tr>\n",
       "</table>\n",
       "<table class=\"simpletable\">\n",
       "<tr>\n",
       "  <th>Omnibus:</th>       <td>425.057</td> <th>  Durbin-Watson:     </th> <td>   2.480</td> \n",
       "</tr>\n",
       "<tr>\n",
       "  <th>Prob(Omnibus):</th> <td> 0.000</td>  <th>  Jarque-Bera (JB):  </th> <td>27429.158</td>\n",
       "</tr>\n",
       "<tr>\n",
       "  <th>Skew:</th>          <td>-0.692</td>  <th>  Prob(JB):          </th> <td>    0.00</td> \n",
       "</tr>\n",
       "<tr>\n",
       "  <th>Kurtosis:</th>      <td>25.834</td>  <th>  Cond. No.          </th> <td>1.32e+11</td> \n",
       "</tr>\n",
       "</table><br/><br/>Notes:<br/>[1] Standard Errors assume that the covariance matrix of the errors is correctly specified.<br/>[2] The condition number is large, 1.32e+11. This might indicate that there are<br/>strong multicollinearity or other numerical problems."
      ],
      "text/latex": [
       "\\begin{center}\n",
       "\\begin{tabular}{lclc}\n",
       "\\toprule\n",
       "\\textbf{Dep. Variable:}    &      close       & \\textbf{  R-squared:         } &     1.000   \\\\\n",
       "\\textbf{Model:}            &       OLS        & \\textbf{  Adj. R-squared:    } &     1.000   \\\\\n",
       "\\textbf{Method:}           &  Least Squares   & \\textbf{  F-statistic:       } & 2.589e+05   \\\\\n",
       "\\textbf{Date:}             & Thu, 28 Mar 2024 & \\textbf{  Prob (F-statistic):} &     0.00    \\\\\n",
       "\\textbf{Time:}             &     11:19:50     & \\textbf{  Log-Likelihood:    } &   -2062.5   \\\\\n",
       "\\textbf{No. Observations:} &        1258      & \\textbf{  AIC:               } &     4147.   \\\\\n",
       "\\textbf{Df Residuals:}     &        1247      & \\textbf{  BIC:               } &     4204.   \\\\\n",
       "\\textbf{Df Model:}         &          10      & \\textbf{                     } &             \\\\\n",
       "\\textbf{Covariance Type:}  &    nonrobust     & \\textbf{                     } &             \\\\\n",
       "\\bottomrule\n",
       "\\end{tabular}\n",
       "\\begin{tabular}{lcccccc}\n",
       "                       & \\textbf{coef} & \\textbf{std err} & \\textbf{t} & \\textbf{P$> |$t$|$} & \\textbf{[0.025} & \\textbf{0.975]}  \\\\\n",
       "\\midrule\n",
       "\\textbf{year}          &      -0.0445  &        0.059     &    -0.750  &         0.453        &       -0.161    &        0.072     \\\\\n",
       "\\textbf{month}         &      -0.0507  &        0.044     &    -1.159  &         0.247        &       -0.137    &        0.035     \\\\\n",
       "\\textbf{day}           &      -0.0066  &        0.004     &    -1.618  &         0.106        &       -0.015    &        0.001     \\\\\n",
       "\\textbf{day\\_of\\_week} &      -0.0088  &        0.026     &    -0.343  &         0.732        &       -0.059    &        0.041     \\\\\n",
       "\\textbf{quarter}       &       0.1847  &        0.134     &     1.381  &         0.167        &       -0.078    &        0.447     \\\\\n",
       "\\textbf{high}          &       0.7786  &        0.025     &    31.056  &         0.000        &        0.729    &        0.828     \\\\\n",
       "\\textbf{low}           &       0.7623  &        0.025     &    30.197  &         0.000        &        0.713    &        0.812     \\\\\n",
       "\\textbf{open}          &      -0.5401  &        0.026     &   -20.718  &         0.000        &       -0.591    &       -0.489     \\\\\n",
       "\\textbf{volume}        &   -5.065e-09  &     2.99e-09     &    -1.692  &         0.091        &    -1.09e-08    &     8.08e-10     \\\\\n",
       "\\textbf{divCash}       &       0.6596  &        0.431     &     1.530  &         0.126        &       -0.186    &        1.505     \\\\\n",
       "\\textbf{splitFactor}   &      89.8205  &      119.540     &     0.751  &         0.453        &     -144.701    &      324.342     \\\\\n",
       "\\bottomrule\n",
       "\\end{tabular}\n",
       "\\begin{tabular}{lclc}\n",
       "\\textbf{Omnibus:}       & 425.057 & \\textbf{  Durbin-Watson:     } &     2.480  \\\\\n",
       "\\textbf{Prob(Omnibus):} &   0.000 & \\textbf{  Jarque-Bera (JB):  } & 27429.158  \\\\\n",
       "\\textbf{Skew:}          &  -0.692 & \\textbf{  Prob(JB):          } &      0.00  \\\\\n",
       "\\textbf{Kurtosis:}      &  25.834 & \\textbf{  Cond. No.          } &  1.32e+11  \\\\\n",
       "\\bottomrule\n",
       "\\end{tabular}\n",
       "%\\caption{OLS Regression Results}\n",
       "\\end{center}\n",
       "\n",
       "Notes: \\newline\n",
       " [1] Standard Errors assume that the covariance matrix of the errors is correctly specified. \\newline\n",
       " [2] The condition number is large, 1.32e+11. This might indicate that there are \\newline\n",
       " strong multicollinearity or other numerical problems."
      ],
      "text/plain": [
       "<class 'statsmodels.iolib.summary.Summary'>\n",
       "\"\"\"\n",
       "                            OLS Regression Results                            \n",
       "==============================================================================\n",
       "Dep. Variable:                  close   R-squared:                       1.000\n",
       "Model:                            OLS   Adj. R-squared:                  1.000\n",
       "Method:                 Least Squares   F-statistic:                 2.589e+05\n",
       "Date:                Thu, 28 Mar 2024   Prob (F-statistic):               0.00\n",
       "Time:                        11:19:50   Log-Likelihood:                -2062.5\n",
       "No. Observations:                1258   AIC:                             4147.\n",
       "Df Residuals:                    1247   BIC:                             4204.\n",
       "Df Model:                          10                                         \n",
       "Covariance Type:            nonrobust                                         \n",
       "===============================================================================\n",
       "                  coef    std err          t      P>|t|      [0.025      0.975]\n",
       "-------------------------------------------------------------------------------\n",
       "year           -0.0445      0.059     -0.750      0.453      -0.161       0.072\n",
       "month          -0.0507      0.044     -1.159      0.247      -0.137       0.035\n",
       "day            -0.0066      0.004     -1.618      0.106      -0.015       0.001\n",
       "day_of_week    -0.0088      0.026     -0.343      0.732      -0.059       0.041\n",
       "quarter         0.1847      0.134      1.381      0.167      -0.078       0.447\n",
       "high            0.7786      0.025     31.056      0.000       0.729       0.828\n",
       "low             0.7623      0.025     30.197      0.000       0.713       0.812\n",
       "open           -0.5401      0.026    -20.718      0.000      -0.591      -0.489\n",
       "volume      -5.065e-09   2.99e-09     -1.692      0.091   -1.09e-08    8.08e-10\n",
       "divCash         0.6596      0.431      1.530      0.126      -0.186       1.505\n",
       "splitFactor    89.8205    119.540      0.751      0.453    -144.701     324.342\n",
       "==============================================================================\n",
       "Omnibus:                      425.057   Durbin-Watson:                   2.480\n",
       "Prob(Omnibus):                  0.000   Jarque-Bera (JB):            27429.158\n",
       "Skew:                          -0.692   Prob(JB):                         0.00\n",
       "Kurtosis:                      25.834   Cond. No.                     1.32e+11\n",
       "==============================================================================\n",
       "\n",
       "Notes:\n",
       "[1] Standard Errors assume that the covariance matrix of the errors is correctly specified.\n",
       "[2] The condition number is large, 1.32e+11. This might indicate that there are\n",
       "strong multicollinearity or other numerical problems.\n",
       "\"\"\""
      ]
     },
     "execution_count": 32,
     "metadata": {},
     "output_type": "execute_result"
    }
   ],
   "source": [
    "# Define independent and dependent variables\n",
    "x = df[[\"year\", \"month\", \"day\", \"day_of_week\", \"quarter\", \"high\", \"low\", \"open\", \"volume\", \"divCash\", \"splitFactor\"]]\n",
    "y = df[\"close\"]\n",
    "\n",
    "# Add constant for intercept estimation\n",
    "x = sm.add_constant(x)\n",
    "\n",
    "# Fit OLS model\n",
    "model = sm.OLS(y, x).fit()\n",
    "\n",
    "# Show model summary\n",
    "model.summary()"
   ]
  },
  {
   "cell_type": "markdown",
   "id": "377671b4",
   "metadata": {},
   "source": [
    "<b>$R^2$ and $R^{2}_{adj}$:</b> We see that both of these values are 1.0, meaning the independent variables capture 100% of the variance in the dependent variable. This suggests a massive amount of overfitting to the training data, unless our model is flawless, which is extremely unlikely. This could be remedied by a train-test split. \n",
    "\n",
    "<b>Degrees of Freedom:</b> The degrees of freedom for the model is 10, and for the residuals it is 1,247. \n",
    "* Model: The df of the model represent the total number of parameters estimated in the model, including the intercept. \n",
    "* Residuals: The df of the residuals represent the number of observations minus the number of parameters in the model. \n",
    "\n",
    "<b>Coefficients of determination:</b> These values represent the regression coefficients for the independent variables, which are the proportions of variance in the dependent variable that is explained by each independent variable. \n",
    "\n",
    "<b>P-values:</b> The P-values ($P > |t|$) for each independent variable represent the probability that its coefficient is equal to zero. The null hypothesis is that the coefficient is zero, IE that variable has no effect on the dependent variable, and the alternative hypothesis is that the coefficient is nonzero, IE that it has an effect. "
   ]
  },
  {
   "cell_type": "markdown",
   "id": "84ce8e76",
   "metadata": {},
   "source": [
    "# Task 3\n",
    "Test, identify, and detect multicollinearity in your dataset. Explain how you resolved it and report the results."
   ]
  },
  {
   "cell_type": "code",
   "execution_count": 33,
   "id": "409057f1",
   "metadata": {},
   "outputs": [
    {
     "data": {
      "text/html": [
       "<div>\n",
       "<style scoped>\n",
       "    .dataframe tbody tr th:only-of-type {\n",
       "        vertical-align: middle;\n",
       "    }\n",
       "\n",
       "    .dataframe tbody tr th {\n",
       "        vertical-align: top;\n",
       "    }\n",
       "\n",
       "    .dataframe thead th {\n",
       "        text-align: right;\n",
       "    }\n",
       "</style>\n",
       "<table border=\"1\" class=\"dataframe\">\n",
       "  <thead>\n",
       "    <tr style=\"text-align: right;\">\n",
       "      <th></th>\n",
       "      <th>year</th>\n",
       "      <th>month</th>\n",
       "      <th>day</th>\n",
       "      <th>day_of_week</th>\n",
       "      <th>quarter</th>\n",
       "      <th>high</th>\n",
       "      <th>low</th>\n",
       "      <th>open</th>\n",
       "      <th>volume</th>\n",
       "      <th>divCash</th>\n",
       "      <th>splitFactor</th>\n",
       "      <th>close</th>\n",
       "    </tr>\n",
       "  </thead>\n",
       "  <tbody>\n",
       "  </tbody>\n",
       "</table>\n",
       "</div>"
      ],
      "text/plain": [
       "Empty DataFrame\n",
       "Columns: [year, month, day, day_of_week, quarter, high, low, open, volume, divCash, splitFactor, close]\n",
       "Index: []"
      ]
     },
     "execution_count": 33,
     "metadata": {},
     "output_type": "execute_result"
    }
   ],
   "source": [
    "# Show variables before dropping\n",
    "df.head(0)"
   ]
  },
  {
   "cell_type": "markdown",
   "id": "e388e936",
   "metadata": {},
   "source": [
    "We can write a function to automatically drop variables with VIFs above a certain threshold."
   ]
  },
  {
   "cell_type": "code",
   "execution_count": 34,
   "id": "9bdf4889",
   "metadata": {},
   "outputs": [],
   "source": [
    "# Function to drop variables with high VIFs \n",
    "def drop_high_vif_variables(data_frame, threshold=10):\n",
    "    features = data_frame.columns\n",
    "    vif_data = pd.DataFrame()\n",
    "    vif_data[\"Variable\"] = features\n",
    "    vif_data[\"VIF\"] = [variance_inflation_factor(data_frame.values, i) for i in range(data_frame.shape[1])]\n",
    "    high_vif_variables = vif_data[vif_data[\"VIF\"] > threshold][\"Variable\"].values\n",
    "    data_frame_dropped = data_frame.drop(high_vif_variables, axis=1)\n",
    "    return data_frame_dropped\n",
    "\n",
    "# Store label \"close\" so it doesn't get removed\n",
    "close = df.pop(\"close\")\n",
    "\n",
    "# Drop variables with high VIFs from the dataframe\n",
    "df = drop_high_vif_variables(df)\n",
    "\n",
    "# Add \"close\" back onto the end\n",
    "df[\"close\"] = close"
   ]
  },
  {
   "cell_type": "code",
   "execution_count": 35,
   "id": "69eb5676",
   "metadata": {
    "scrolled": true
   },
   "outputs": [
    {
     "data": {
      "text/html": [
       "<div>\n",
       "<style scoped>\n",
       "    .dataframe tbody tr th:only-of-type {\n",
       "        vertical-align: middle;\n",
       "    }\n",
       "\n",
       "    .dataframe tbody tr th {\n",
       "        vertical-align: top;\n",
       "    }\n",
       "\n",
       "    .dataframe thead th {\n",
       "        text-align: right;\n",
       "    }\n",
       "</style>\n",
       "<table border=\"1\" class=\"dataframe\">\n",
       "  <thead>\n",
       "    <tr style=\"text-align: right;\">\n",
       "      <th></th>\n",
       "      <th>year</th>\n",
       "      <th>day</th>\n",
       "      <th>day_of_week</th>\n",
       "      <th>volume</th>\n",
       "      <th>divCash</th>\n",
       "      <th>close</th>\n",
       "    </tr>\n",
       "  </thead>\n",
       "  <tbody>\n",
       "  </tbody>\n",
       "</table>\n",
       "</div>"
      ],
      "text/plain": [
       "Empty DataFrame\n",
       "Columns: [year, day, day_of_week, volume, divCash, close]\n",
       "Index: []"
      ]
     },
     "execution_count": 35,
     "metadata": {},
     "output_type": "execute_result"
    }
   ],
   "source": [
    "# Show variables after dropping\n",
    "df.head(0)"
   ]
  },
  {
   "cell_type": "markdown",
   "id": "d568b64b",
   "metadata": {},
   "source": [
    "We see that `year`, `day`, `day_of_week`, `volume` and `divCash` are the only independent variables that are not strongly correlated with other variables, and thus do not contribute significantly to multicollinearity. "
   ]
  },
  {
   "cell_type": "markdown",
   "id": "890586be",
   "metadata": {},
   "source": [
    "# Task 4\n",
    "Fit a linear regression model using the linear regression method from scikit-learn library. Obtain the coefficients and interpret the results."
   ]
  },
  {
   "cell_type": "code",
   "execution_count": 36,
   "id": "d49f7c58",
   "metadata": {},
   "outputs": [
    {
     "name": "stdout",
     "output_type": "stream",
     "text": [
      "Coefficients: [ 3.34917100e+01  6.10537023e-02 -1.98012547e-01  1.04988877e-07\n",
      "  7.26743862e+00]\n",
      "Intercept: -67402.51855928185\n",
      "R^2: 0.7691375609650263\n"
     ]
    }
   ],
   "source": [
    "# Get independent and dependent variables\n",
    "x = df[[\"year\", \"day\", \"day_of_week\", \"volume\", \"divCash\"]]\n",
    "y = df[\"close\"]\n",
    "\n",
    "# Create and fit model\n",
    "model = LinearRegression()\n",
    "model.fit(x, y)\n",
    "\n",
    "# Show model coefficients, intercept and R^2\n",
    "print(\"Coefficients:\", model.coef_)\n",
    "print(\"Intercept:\", model.intercept_)\n",
    "print(\"R^2:\", model.score(x, y))"
   ]
  },
  {
   "cell_type": "markdown",
   "id": "41ebe048",
   "metadata": {},
   "source": [
    "Our model equation is approximately the following: $close = -67403 + 33.5*year + 0.06*day - 0.2*dayofweek + (1.05*10^{-7})*volume + 7.27*divCash$."
   ]
  },
  {
   "cell_type": "markdown",
   "id": "10b961f2",
   "metadata": {},
   "source": [
    "# Task 5\n",
    "Split the data into 80% training and 20% testing sets using the train_test_split class."
   ]
  },
  {
   "cell_type": "code",
   "execution_count": 37,
   "id": "dba7c615",
   "metadata": {},
   "outputs": [],
   "source": [
    "# Split data into training and testing sets\n",
    "x_train, x_test, y_train, y_test = train_test_split(x, y, test_size=0.2, random_state=42)"
   ]
  },
  {
   "cell_type": "markdown",
   "id": "269f24a6",
   "metadata": {},
   "source": [
    "# Task 6\n",
    "Train the multiple regression model on the training set using the LinearRegression class."
   ]
  },
  {
   "cell_type": "code",
   "execution_count": 38,
   "id": "c8da7b73",
   "metadata": {},
   "outputs": [
    {
     "name": "stdout",
     "output_type": "stream",
     "text": [
      "Coefficients: [3.33076592e+01 1.46098202e-01 6.65736055e-02 1.11003062e-07\n",
      " 2.78559429e+00]\n",
      "Intercept: -67032.80959220306\n",
      "R^2: 0.7687782776329796\n"
     ]
    }
   ],
   "source": [
    "# Train model using training data\n",
    "model.fit(x_train, y_train)\n",
    "\n",
    "# Show model coefficients, intercept and R^2\n",
    "print(\"Coefficients:\", model.coef_)\n",
    "print(\"Intercept:\", model.intercept_)\n",
    "print(\"R^2:\", model.score(x, y))"
   ]
  },
  {
   "cell_type": "markdown",
   "id": "7a4f43fe",
   "metadata": {},
   "source": [
    "# Task 7\n",
    "Make regression predictions and interpret your results in the context of the question(s) you're trying to answer."
   ]
  },
  {
   "cell_type": "code",
   "execution_count": 39,
   "id": "9db6fad0",
   "metadata": {},
   "outputs": [
    {
     "data": {
      "text/html": [
       "<div>\n",
       "<style scoped>\n",
       "    .dataframe tbody tr th:only-of-type {\n",
       "        vertical-align: middle;\n",
       "    }\n",
       "\n",
       "    .dataframe tbody tr th {\n",
       "        vertical-align: top;\n",
       "    }\n",
       "\n",
       "    .dataframe thead th {\n",
       "        text-align: right;\n",
       "    }\n",
       "</style>\n",
       "<table border=\"1\" class=\"dataframe\">\n",
       "  <thead>\n",
       "    <tr style=\"text-align: right;\">\n",
       "      <th></th>\n",
       "      <th>actual</th>\n",
       "      <th>predicted</th>\n",
       "      <th>residual</th>\n",
       "    </tr>\n",
       "  </thead>\n",
       "  <tbody>\n",
       "    <tr>\n",
       "      <th>0</th>\n",
       "      <td>132.045</td>\n",
       "      <td>91.289092</td>\n",
       "      <td>40.755908</td>\n",
       "    </tr>\n",
       "    <tr>\n",
       "      <th>1</th>\n",
       "      <td>131.780</td>\n",
       "      <td>89.825625</td>\n",
       "      <td>41.954375</td>\n",
       "    </tr>\n",
       "    <tr>\n",
       "      <th>2</th>\n",
       "      <td>130.280</td>\n",
       "      <td>92.275135</td>\n",
       "      <td>38.004865</td>\n",
       "    </tr>\n",
       "    <tr>\n",
       "      <th>3</th>\n",
       "      <td>130.535</td>\n",
       "      <td>85.834380</td>\n",
       "      <td>44.700620</td>\n",
       "    </tr>\n",
       "    <tr>\n",
       "      <th>4</th>\n",
       "      <td>129.960</td>\n",
       "      <td>86.219642</td>\n",
       "      <td>43.740358</td>\n",
       "    </tr>\n",
       "  </tbody>\n",
       "</table>\n",
       "</div>"
      ],
      "text/plain": [
       "    actual  predicted   residual\n",
       "0  132.045  91.289092  40.755908\n",
       "1  131.780  89.825625  41.954375\n",
       "2  130.280  92.275135  38.004865\n",
       "3  130.535  85.834380  44.700620\n",
       "4  129.960  86.219642  43.740358"
      ]
     },
     "execution_count": 39,
     "metadata": {},
     "output_type": "execute_result"
    }
   ],
   "source": [
    "# Assemble dataframe with predictions and actual values\n",
    "predictions_vs_actual = pd.DataFrame({\n",
    "    \"actual\": y, \n",
    "    \"predicted\": model.predict(x)\n",
    "})\n",
    "\n",
    "# Calculate residuals\n",
    "predictions_vs_actual[\"residual\"] = predictions_vs_actual[\"actual\"] - predictions_vs_actual[\"predicted\"]\n",
    "\n",
    "# Show results\n",
    "predictions_vs_actual.head()"
   ]
  },
  {
   "cell_type": "code",
   "execution_count": 40,
   "id": "0c31c51d",
   "metadata": {},
   "outputs": [
    {
     "data": {
      "image/png": "[encoded data removed]",
      "text/plain": [
       "<Figure size 800x600 with 1 Axes>"
      ]
     },
     "metadata": {},
     "output_type": "display_data"
    },
    {
     "name": "stdout",
     "output_type": "stream",
     "text": [
      "Descriptive statistics for the residuals:\n",
      "           count      mean        std        min        25%       50%  \\\n",
      "residual  1258.0 -0.445139  27.333374 -83.938248 -18.259928 -6.613274   \n",
      "\n",
      "                75%        max  \n",
      "residual  20.567201  73.495613  \n"
     ]
    }
   ],
   "source": [
    "# Create residual plot\n",
    "plt.figure(figsize=(8, 6))\n",
    "plt.scatter(predictions_vs_actual[\"predicted\"], predictions_vs_actual[\"residual\"])\n",
    "plt.axhline(y=0, color=\"r\", linestyle=\"--\")\n",
    "plt.title(\"Residual Plot\")\n",
    "plt.xlabel(\"Predicted Values\")\n",
    "plt.ylabel(\"Residuals\")\n",
    "plt.show()\n",
    "\n",
    "# Show residual descriptive statistics\n",
    "print(\"Descriptive statistics for the residuals:\")\n",
    "print(predictions_vs_actual[\"residual\"].describe().to_frame().transpose())"
   ]
  },
  {
   "cell_type": "markdown",
   "id": "ccb216f5",
   "metadata": {},
   "source": [
    "We see a cone-shaped distribution of residuals, suggesting possible heteroscedasticity. To correct this issue, we could perform transformations on the dependent variable `close`, or use an alternative regression technique like weighted least squares that is less prone to heteroscedasticity issues. \n",
    "\n",
    "We also notice that the mean residual is close to 0, demonstrating that the model's <i>average</i> prediction is accurate, but the individual predictions are often far too high or too low, as evidenced by the standard deviation. "
   ]
  },
  {
   "cell_type": "markdown",
   "id": "aca7691c",
   "metadata": {},
   "source": [
    "# Task 8\n",
    "Validate your multiple regression model using a confusion matrix, accuracy score, and k-fold cross-validation."
   ]
  },
  {
   "cell_type": "markdown",
   "id": "f246f7ec",
   "metadata": {},
   "source": [
    "Confusion matrices and accuracy scores are primarily used for classification machine learning models, not regression models, so we will need to validate the model's effectiveness using other metrics. These could include the mean squared error (MSE), root mean squared error (RMSE), and mean absolute error (MAE). We will include these along with k-fold cross-validation scores. "
   ]
  },
  {
   "cell_type": "code",
   "execution_count": 46,
   "id": "e576064e",
   "metadata": {},
   "outputs": [
    {
     "name": "stdout",
     "output_type": "stream",
     "text": [
      "Mean Squared Error (MSE): 746.717576404666\n",
      "Root Mean Squared Error (RMSE): 27.32613357949979\n",
      "Mean Absolute Error (MAE): 22.144066985465603\n",
      "Cross-Validation Scores: [-13.2265556   -0.78560815  -0.46306999  -1.89026497  -0.7481862 ]\n",
      "Mean Cross-Validation Score: -3.4227369821976112\n"
     ]
    }
   ],
   "source": [
    "# Shortenings of actual and predicted values\n",
    "actual = predictions_vs_actual[\"actual\"]\n",
    "predicted = predictions_vs_actual[\"predicted\"]\n",
    "\n",
    "# Calculate MSE, RMSE and MAE\n",
    "mse = mean_squared_error(actual, predicted)\n",
    "rmse = np.sqrt(mse)\n",
    "mae = mean_absolute_error(actual, predicted)\n",
    "\n",
    "# Calculate k-fold cross-validation scores\n",
    "scores = cross_val_score(model, x, y, cv=5)\n",
    "\n",
    "# Show MSE, RMSE and MAE metrics\n",
    "print(\"Mean Squared Error (MSE):\", mse)\n",
    "print(\"Root Mean Squared Error (RMSE):\", rmse)\n",
    "print(\"Mean Absolute Error (MAE):\", mae)\n",
    "print(\"Cross-Validation Scores:\", scores)\n",
    "print(\"Mean Cross-Validation Score:\", scores.mean())"
   ]
  },
  {
   "cell_type": "markdown",
   "id": "3f2b7c18",
   "metadata": {},
   "source": [
    "These cross-validation scores represent how well the model generalizes to new, unseen data, with positive scores indicating good model performance. Our scores are all negative, meaning that the model performs worse than a naive model that always predicts the mean, median, or some other basic value. Further investigation would be required to figure out why the model's performance is poor and how to improve it. "
   ]
  },
  {
   "cell_type": "markdown",
   "id": "bcfdf4ff",
   "metadata": {},
   "source": [
    "# References\n",
    "ChatGPT. (n.d.). https://chat.openai.com/ <br>\n",
    "Confusion matrix in linear regression. (n.d.). Stack Overflow. https://stackoverflow.com/questions/62077965/confusion-matrix-in-linear-regression"
   ]
  }
 ],
 "metadata": {
  "kernelspec": {
   "display_name": "Python 3 (ipykernel)",
   "language": "python",
   "name": "python3"
  },
  "language_info": {
   "codemirror_mode": {
    "name": "ipython",
    "version": 3
   },
   "file_extension": ".py",
   "mimetype": "text/x-python",
   "name": "python",
   "nbconvert_exporter": "python",
   "pygments_lexer": "ipython3",
   "version": "3.11.5"
  }
 },
 "nbformat": 4,
 "nbformat_minor": 5
}
